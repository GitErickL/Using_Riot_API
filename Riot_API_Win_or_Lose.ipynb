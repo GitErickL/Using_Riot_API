{
 "cells": [
  {
   "cell_type": "markdown",
   "id": "4fedb661",
   "metadata": {},
   "source": [
    "# Using Machine Learning to Predict Whether a Game is a Win or a Loss in League of Legends"
   ]
  },
  {
   "cell_type": "markdown",
   "id": "7b8e97bc",
   "metadata": {},
   "source": [
    "Hello! In this notebook we will acquire player data from Riot's API. This includes data from the player's last 100 matches. The data we are interested in for the purposes of this notebook are the kills, deaths assists and gold earned by that player for each game. We use machine learning to build a logistic regression model that predicts whether that game is a win or a loss."
   ]
  },
  {
   "cell_type": "markdown",
   "id": "fa028959",
   "metadata": {},
   "source": [
    "You can easily edit this notebook to analyze your own data. GLHF!"
   ]
  },
  {
   "cell_type": "code",
   "execution_count": 1,
   "id": "27d8741b",
   "metadata": {},
   "outputs": [],
   "source": [
    "import riotwatcher\n",
    "import pandas as pd\n",
    "import numpy as np\n",
    "import seaborn as sns\n",
    "import matplotlib.pyplot as plt\n",
    "import json\n",
    "import os\n",
    "\n",
    "%matplotlib inline"
   ]
  },
  {
   "cell_type": "markdown",
   "id": "38e2f19f",
   "metadata": {},
   "source": [
    "## Retrieving User Data from Riot API Using Riotwatcher"
   ]
  },
  {
   "cell_type": "markdown",
   "id": "45f6c6f1",
   "metadata": {},
   "source": [
    "We can use the Python package riotwatcher (https://github.com/pseudonym117/Riot-Watcher) to utilize Riot's API (https://developer.riotgames.com/)and get relevant data of a player and their matches."
   ]
  },
  {
   "cell_type": "markdown",
   "id": "4acfd66b",
   "metadata": {},
   "source": [
    "We create an instance of LolWatcher, which is an interface between Python and Riot's API, where we can call various methods to look at data from Riot's API. To do this we need an api_key from Riot games. You can do this by going on the Riot API website provided in the cell above. The API key is what let's riot know who is accessing their data. API keys should not be shared with anyone. If you are going to use riotwatcher code (or some version of this code) for anything, make sure you edit out your API key."
   ]
  },
  {
   "cell_type": "code",
   "execution_count": 2,
   "id": "5097cf18",
   "metadata": {},
   "outputs": [],
   "source": [
    "watcher = riotwatcher.LolWatcher(api_key = '')"
   ]
  },
  {
   "cell_type": "markdown",
   "id": "45740be7",
   "metadata": {},
   "source": [
    "Let's use riotwatcher to get identifying information on Doublelift"
   ]
  },
  {
   "cell_type": "markdown",
   "id": "010f1a34",
   "metadata": {},
   "source": [
    "## Weird Caveats to summoners"
   ]
  },
  {
   "cell_type": "markdown",
   "id": "991207ec",
   "metadata": {},
   "source": [
    "I tried grabbing data for Doublelift and found that the data i grabbed did not match up with that of OP.gg or U.gg.\n",
    "\n",
    "The last match that they have is from 3 days ago. I believe that they are not able to grab data as frequently as I expected, at least for the day I tried for whatever reason. I have no idea why this is the case.\n",
    "\n",
    "Knowing this, we will only compare data acquired from non-famous users to sites like OP.gg and U.gg because they usually matched up from my experience. This will be done outside this notebook and I encourage you to cross-validate your data from these sites as well (as well as directly from Riot's API)."
   ]
  },
  {
   "cell_type": "code",
   "execution_count": 3,
   "id": "23ab7023",
   "metadata": {},
   "outputs": [
    {
     "data": {
      "text/plain": [
       "{'id': '1-lKe0sKHoomm1cGKTMGm3usHkmg0g-WD420VYOlLW_MS1I',\n",
       " 'accountId': 'TLGnXMAPXufbdp4-QHxRNZH4YxgyOh3bvVyr0KEs8ao2-Ac',\n",
       " 'puuid': 'IhFJhHpKEN_vNez9P-N98_45C83HsUxDdyTAWrJYaoDdCt4SN0TPxeQ96rar0hT9njemIRezJ2gQrQ',\n",
       " 'name': 'puddingpiler',\n",
       " 'profileIconId': 4052,\n",
       " 'revisionDate': 1647387185000,\n",
       " 'summonerLevel': 414}"
      ]
     },
     "execution_count": 3,
     "metadata": {},
     "output_type": "execute_result"
    }
   ],
   "source": [
    "#We will grab username of the player of interest\n",
    "summoner_name = 'puddingpiler'\n",
    "\n",
    "#We can use the LolWatcher instance to get some data on the user's identifying information\n",
    "watcher.summoner.by_name(region = 'na1', summoner_name = summoner_name)"
   ]
  },
  {
   "cell_type": "markdown",
   "id": "69cd7360",
   "metadata": {},
   "source": [
    "## Data Retrieval"
   ]
  },
  {
   "cell_type": "markdown",
   "id": "f6458a58",
   "metadata": {},
   "source": [
    "We will now use riotwatcher to retrieve data from Riot Games. The data we will be retrieving here is data from the past 100 matches of the player Doublelift. Riotwatcher can only download 100 games per one call of watcher.match.matchlist_by_puuid, so that is the amount of games that we will analyze."
   ]
  },
  {
   "cell_type": "code",
   "execution_count": 4,
   "id": "a04928f5",
   "metadata": {},
   "outputs": [],
   "source": [
    "#Getting the puuid, a string identifying a player\n",
    "my_puuid = watcher.summoner.by_name('na1', summoner_name)['puuid']\n",
    "\n",
    "#How many matches do you want the data from (max is 100 for LolWatcher)\n",
    "count = 100\n",
    "\n",
    "\n",
    "#Grab list of {count} last match id's\n",
    "match_list = watcher.match.matchlist_by_puuid(region = 'americas', puuid = my_puuid, count = count)\n",
    "\n",
    "\n",
    "#We will append various data from the matches onto these empty lists\n",
    "match_id = []\n",
    "kills = []\n",
    "deaths = []\n",
    "assists = []\n",
    "gold_total = []\n",
    "queue_id = []\n",
    "win = []\n",
    "\n",
    "dir_path_name = 'Riot_API_Folder'\n",
    "\n",
    "\n",
    "#Creating a folder that will contain data files from Riot's API\n",
    "if os.path.isdir(dir_path_name) is False:\n",
    "    os.mkdir(dir_path_name)\n",
    "\n",
    "\n",
    "#Loop over all these matches \n",
    "for match in match_list:\n",
    "    \n",
    "    #We want to append the match identifier string\n",
    "    match_id.append(match)\n",
    "    \n",
    "        \n",
    "    #Grabs dictionary of match info from Riot API\n",
    "    match_json = watcher.match.by_id('americas', match)\n",
    "    \n",
    "    \n",
    "    #Grabs the part of the dictionary that contains non-metadata\n",
    "    match_details = watcher.match.by_id('americas', match)['info']\n",
    "    \n",
    "    \n",
    "    #Saving the match details to a json file for future use\n",
    "    with open(\"{}/{}_match_details_{}.json\".format(dir_path_name, summoner_name, match), \"w\") as outfile:\n",
    "        json.dump(match_json, outfile)\n",
    "\n",
    "    \n",
    "    #Identify the player of interest in each match\n",
    "    #Since there are 10 players we need a way to identify the data of the player of interest\n",
    "    #I do this by looping through the players' puuid and picking the one that matches the\n",
    "    #puuid of the player of interest\n",
    "    for player in match_details['participants']:\n",
    "\n",
    "        if player['puuid'] == my_puuid:\n",
    "            \n",
    "            #These are the metrics that we are interested in\n",
    "            #There are many metrics provided by Riot's API, and in future projects\n",
    "            #I will be more comprehensive with the features I choose\n",
    "            kills.append(player['kills'])\n",
    "            deaths.append(player['deaths'])\n",
    "            assists.append(player['assists'])\n",
    "            gold_total.append(player['goldEarned'])\n",
    "            queue_id.append(match_details['queueId'])\n",
    "            win.append(player['win'])\n",
    "\n",
    "        else: pass\n"
   ]
  },
  {
   "cell_type": "markdown",
   "id": "96dca32f",
   "metadata": {},
   "source": [
    "## Importing Data From JSON Files"
   ]
  },
  {
   "cell_type": "markdown",
   "id": "58940fb0",
   "metadata": {},
   "source": [
    "# NOTE:"
   ]
  },
  {
   "cell_type": "markdown",
   "id": "811dfa7e",
   "metadata": {},
   "source": [
    "## Only run next cell of code if you have downloaded relevant JSON files from cell above"
   ]
  },
  {
   "cell_type": "markdown",
   "id": "0aee94a2",
   "metadata": {},
   "source": [
    "I have downloaded the json files from Riot's API from the relevant code above so we can use it later. This cell above takes a little while to run and saving data in its completeness ensures I can go back and do any kind of analysis swiftly."
   ]
  },
  {
   "cell_type": "markdown",
   "id": "2a3b8afc",
   "metadata": {},
   "source": [
    "In the code cell above we created lists of relevant player data. However, we may want to do some extra analysis on this data and may not want to rerun this cell above. This code cell below walks us through how to create the same lists as the code cell above. Skip this cell if you are creating the lists from the cell above."
   ]
  },
  {
   "cell_type": "code",
   "execution_count": 6,
   "id": "bf6f89bb",
   "metadata": {
    "scrolled": true
   },
   "outputs": [],
   "source": [
    "#Getting the filenames in the folder containing match json files\n",
    "\n",
    "#NOTE: if there are any other files in here OR there are duplicate files, you need to do some cleaning \n",
    "#in that directory\n",
    "filenames = [name for name in os.listdir(dir_path_name)]\n",
    "\n",
    "\n",
    "#Getting the number of files in the folder containing match json files. \n",
    "file_counts = len(filenames)\n",
    "\n",
    "\n",
    "\n",
    "match_id = []\n",
    "time_begin = []\n",
    "kills = []\n",
    "deaths = []\n",
    "assists = []\n",
    "gold_total = []\n",
    "queue_id = []\n",
    "win = []\n",
    "\n",
    "\n",
    "for i in range(file_counts):\n",
    "    \n",
    "    #Loading the match data from the json file we created in the code cell above\n",
    "    match_json = json.load(open(dir_path_name+'/'+filenames[i]))\n",
    "    \n",
    "    \n",
    "    #Getting the match id from this file\n",
    "    match_id.append(match_json['metadata']['matchId'])    \n",
    "    \n",
    "    \n",
    "    #Getting the timestamp for when the match began. Units are in Unix time.\n",
    "    time_begin.append(match_json['info']['gameStartTimestamp'])\n",
    "    \n",
    "    \n",
    "    #Getting the queue ID for the match\n",
    "    queue_id.append(match_json['info']['queueId'])\n",
    "    \n",
    "    \n",
    "    \n",
    "    for player in match_json['info']['participants']:\n",
    "        \n",
    "        if player['puuid'] == my_puuid:\n",
    "            \n",
    "            kills.append(player['kills'])\n",
    "            deaths.append(player['deaths'])\n",
    "            assists.append(player['assists'])\n",
    "            gold_total.append(player['goldEarned'])\n",
    "            win.append(player['win'])\n",
    "            \n",
    "    \n",
    "            \n",
    "            #Used for testing if you get the same data from other sources (Like OP.gg or U.gg)\n",
    "            '''print(match_json['info']['participants'][0]['kills'],\n",
    "                  match_json['info']['participants'][0]['deaths'],\n",
    "                  match_json['info']['participants'][0]['assists'])'''\n",
    "            \n",
    "            \n",
    "        else: pass"
   ]
  },
  {
   "cell_type": "markdown",
   "id": "b0897ed0",
   "metadata": {},
   "source": [
    "## Cleaning Data"
   ]
  },
  {
   "cell_type": "markdown",
   "id": "8888c08e",
   "metadata": {},
   "source": [
    "Riot's API identifies a game type such as Ranked Solo/Duo, ARAM, Draft through identifying numbers called queue_id.The relevant ones for the data I'll be using are:\n",
    "- 400 -> Draft Pick\n",
    "- 420 -> Ranked Solo/Duo\n",
    "- 450 -> ARAM\n",
    "- 900 -> ARURF"
   ]
  },
  {
   "cell_type": "markdown",
   "id": "e9f08724",
   "metadata": {},
   "source": [
    "However, Riot has an exhaustive list of all available queue ID's found here (https://static.developer.riotgames.com/docs/lol/queues.json). You can write a few lines of code that gets the queue type from the queue id that utilizes this json file, if you wish."
   ]
  },
  {
   "cell_type": "code",
   "execution_count": 7,
   "id": "6f891608",
   "metadata": {},
   "outputs": [],
   "source": [
    "#We will create a new list that replaces these nubmers with string of match type\n",
    "match_type = []\n",
    "\n",
    "for queue in queue_id:\n",
    "    \n",
    "    if queue == 420:\n",
    "        match_type.append('Ranked')\n",
    "    \n",
    "    elif queue == 450:\n",
    "        match_type.append('ARAM')\n",
    "        \n",
    "    elif queue == 400:\n",
    "        match_type.append('Draft')\n",
    "        \n",
    "    elif queue == 900:\n",
    "        match_type.append('ARURF')\n",
    "        \n",
    "    else:\n",
    "        match_type.append(queue)"
   ]
  },
  {
   "cell_type": "markdown",
   "id": "7af6f5ef",
   "metadata": {},
   "source": [
    "## Creating the Pandas dataframe"
   ]
  },
  {
   "cell_type": "code",
   "execution_count": 8,
   "id": "6434511c",
   "metadata": {},
   "outputs": [],
   "source": [
    "#Joining together all data acquired through LolWatcher\n",
    "df = pd.DataFrame({'match_id': match_id, \n",
    "                   'timeStart': time_begin,\n",
    "                   'kills': kills, \n",
    "                   'deaths': deaths, \n",
    "                   'assists': assists, \n",
    "                   'gold_earned': gold_total,\n",
    "                   'match_type': match_type,\n",
    "                   'win': win\n",
    "                  })\n",
    "\n",
    "\n",
    "#Let's sort this data by time. Most recent games come at the top of the dataframe\n",
    "df.sort_values(by = ['timeStart'], inplace = True, ascending = False)"
   ]
  },
  {
   "cell_type": "code",
   "execution_count": 9,
   "id": "3aab5d73",
   "metadata": {},
   "outputs": [
    {
     "data": {
      "text/html": [
       "<div>\n",
       "<style scoped>\n",
       "    .dataframe tbody tr th:only-of-type {\n",
       "        vertical-align: middle;\n",
       "    }\n",
       "\n",
       "    .dataframe tbody tr th {\n",
       "        vertical-align: top;\n",
       "    }\n",
       "\n",
       "    .dataframe thead th {\n",
       "        text-align: right;\n",
       "    }\n",
       "</style>\n",
       "<table border=\"1\" class=\"dataframe\">\n",
       "  <thead>\n",
       "    <tr style=\"text-align: right;\">\n",
       "      <th></th>\n",
       "      <th>match_id</th>\n",
       "      <th>timeStart</th>\n",
       "      <th>kills</th>\n",
       "      <th>deaths</th>\n",
       "      <th>assists</th>\n",
       "      <th>gold_earned</th>\n",
       "      <th>match_type</th>\n",
       "      <th>win</th>\n",
       "    </tr>\n",
       "  </thead>\n",
       "  <tbody>\n",
       "    <tr>\n",
       "      <th>65</th>\n",
       "      <td>NA1_4249485376</td>\n",
       "      <td>1647533810412</td>\n",
       "      <td>21</td>\n",
       "      <td>5</td>\n",
       "      <td>15</td>\n",
       "      <td>20301</td>\n",
       "      <td>Draft</td>\n",
       "      <td>True</td>\n",
       "    </tr>\n",
       "    <tr>\n",
       "      <th>22</th>\n",
       "      <td>NA1_4249502047</td>\n",
       "      <td>1647531633597</td>\n",
       "      <td>15</td>\n",
       "      <td>4</td>\n",
       "      <td>13</td>\n",
       "      <td>14487</td>\n",
       "      <td>Draft</td>\n",
       "      <td>True</td>\n",
       "    </tr>\n",
       "    <tr>\n",
       "      <th>74</th>\n",
       "      <td>NA1_4249057515</td>\n",
       "      <td>1647488447367</td>\n",
       "      <td>19</td>\n",
       "      <td>6</td>\n",
       "      <td>13</td>\n",
       "      <td>20866</td>\n",
       "      <td>Draft</td>\n",
       "      <td>True</td>\n",
       "    </tr>\n",
       "    <tr>\n",
       "      <th>67</th>\n",
       "      <td>NA1_4249009046</td>\n",
       "      <td>1647486442690</td>\n",
       "      <td>13</td>\n",
       "      <td>1</td>\n",
       "      <td>3</td>\n",
       "      <td>13729</td>\n",
       "      <td>Draft</td>\n",
       "      <td>True</td>\n",
       "    </tr>\n",
       "    <tr>\n",
       "      <th>6</th>\n",
       "      <td>NA1_4247862756</td>\n",
       "      <td>1647386203343</td>\n",
       "      <td>28</td>\n",
       "      <td>6</td>\n",
       "      <td>17</td>\n",
       "      <td>16335</td>\n",
       "      <td>ARAM</td>\n",
       "      <td>True</td>\n",
       "    </tr>\n",
       "    <tr>\n",
       "      <th>36</th>\n",
       "      <td>NA1_4247851698</td>\n",
       "      <td>1647385270322</td>\n",
       "      <td>7</td>\n",
       "      <td>6</td>\n",
       "      <td>12</td>\n",
       "      <td>8803</td>\n",
       "      <td>ARAM</td>\n",
       "      <td>False</td>\n",
       "    </tr>\n",
       "    <tr>\n",
       "      <th>90</th>\n",
       "      <td>NA1_4247817907</td>\n",
       "      <td>1647383843857</td>\n",
       "      <td>13</td>\n",
       "      <td>8</td>\n",
       "      <td>19</td>\n",
       "      <td>17251</td>\n",
       "      <td>ARAM</td>\n",
       "      <td>False</td>\n",
       "    </tr>\n",
       "    <tr>\n",
       "      <th>37</th>\n",
       "      <td>NA1_4247796220</td>\n",
       "      <td>1647382299797</td>\n",
       "      <td>14</td>\n",
       "      <td>9</td>\n",
       "      <td>34</td>\n",
       "      <td>15190</td>\n",
       "      <td>ARAM</td>\n",
       "      <td>True</td>\n",
       "    </tr>\n",
       "    <tr>\n",
       "      <th>17</th>\n",
       "      <td>NA1_4246889034</td>\n",
       "      <td>1647287335251</td>\n",
       "      <td>11</td>\n",
       "      <td>10</td>\n",
       "      <td>14</td>\n",
       "      <td>15482</td>\n",
       "      <td>ARAM</td>\n",
       "      <td>True</td>\n",
       "    </tr>\n",
       "    <tr>\n",
       "      <th>93</th>\n",
       "      <td>NA1_4246887442</td>\n",
       "      <td>1647286178709</td>\n",
       "      <td>4</td>\n",
       "      <td>7</td>\n",
       "      <td>23</td>\n",
       "      <td>9363</td>\n",
       "      <td>ARAM</td>\n",
       "      <td>True</td>\n",
       "    </tr>\n",
       "  </tbody>\n",
       "</table>\n",
       "</div>"
      ],
      "text/plain": [
       "          match_id      timeStart  kills  deaths  assists  gold_earned  \\\n",
       "65  NA1_4249485376  1647533810412     21       5       15        20301   \n",
       "22  NA1_4249502047  1647531633597     15       4       13        14487   \n",
       "74  NA1_4249057515  1647488447367     19       6       13        20866   \n",
       "67  NA1_4249009046  1647486442690     13       1        3        13729   \n",
       "6   NA1_4247862756  1647386203343     28       6       17        16335   \n",
       "36  NA1_4247851698  1647385270322      7       6       12         8803   \n",
       "90  NA1_4247817907  1647383843857     13       8       19        17251   \n",
       "37  NA1_4247796220  1647382299797     14       9       34        15190   \n",
       "17  NA1_4246889034  1647287335251     11      10       14        15482   \n",
       "93  NA1_4246887442  1647286178709      4       7       23         9363   \n",
       "\n",
       "   match_type    win  \n",
       "65      Draft   True  \n",
       "22      Draft   True  \n",
       "74      Draft   True  \n",
       "67      Draft   True  \n",
       "6        ARAM   True  \n",
       "36       ARAM  False  \n",
       "90       ARAM  False  \n",
       "37       ARAM   True  \n",
       "17       ARAM   True  \n",
       "93       ARAM   True  "
      ]
     },
     "execution_count": 9,
     "metadata": {},
     "output_type": "execute_result"
    }
   ],
   "source": [
    "df.head(10)"
   ]
  },
  {
   "cell_type": "markdown",
   "id": "421b3be7",
   "metadata": {},
   "source": [
    "## More Cleaning"
   ]
  },
  {
   "cell_type": "code",
   "execution_count": 10,
   "id": "8a1ad193",
   "metadata": {},
   "outputs": [],
   "source": [
    "#Replacing the win column of booleans with 1 or 0 instead of the True/False values given\n",
    "#1 indacates a win and 0 indicates loss\n",
    "df['win'] = df['win'].apply(lambda x: 1 if x == True else 0)"
   ]
  },
  {
   "cell_type": "markdown",
   "id": "6b0020f0",
   "metadata": {},
   "source": [
    "## Separating Game Modes"
   ]
  },
  {
   "cell_type": "markdown",
   "id": "66464dbf",
   "metadata": {},
   "source": [
    "We want to separate all the different game modes from each other (ARAM, Ranked, etc.) so that we may do data analysis on data from one game type at a time."
   ]
  },
  {
   "cell_type": "code",
   "execution_count": 11,
   "id": "d16c45bc",
   "metadata": {},
   "outputs": [
    {
     "data": {
      "text/plain": [
       "ARAM      71\n",
       "Draft     17\n",
       "ARURF     10\n",
       "Ranked     2\n",
       "Name: match_type, dtype: int64"
      ]
     },
     "execution_count": 11,
     "metadata": {},
     "output_type": "execute_result"
    }
   ],
   "source": [
    "#Getting a count of what kind and how many matches there are\n",
    "df['match_type'].value_counts()"
   ]
  },
  {
   "cell_type": "code",
   "execution_count": 12,
   "id": "08d745db",
   "metadata": {},
   "outputs": [
    {
     "name": "stdout",
     "output_type": "stream",
     "text": [
      "ARAM: 71 Draft: 17 ARURF: 10 Ranked: 2\n"
     ]
    }
   ],
   "source": [
    "#Creating dataframes of gametypes\n",
    "#Dropping the match_type columns since it will be redundant with the name of the dataframe\n",
    "\n",
    "ARAM = df[df['match_type'] == 'ARAM'].drop(['match_type'], axis = 1)\n",
    "Draft = df[df['match_type'] == 'Draft'].drop(['match_type'], axis = 1)\n",
    "ARURF = df[df['match_type'] == 'ARURF'].drop(['match_type'], axis = 1)\n",
    "Ranked = df[df['match_type'] == 'Ranked'].drop(['match_type'], axis = 1)\n",
    "\n",
    "\n",
    "#Checking if data separated correctly\n",
    "print ('ARAM:', len(ARAM), 'Draft:', len(Draft), 'ARURF:', len(ARURF), 'Ranked:', len(Ranked))"
   ]
  },
  {
   "cell_type": "markdown",
   "id": "acb7bba0",
   "metadata": {},
   "source": [
    "## Checking Out Dataframe of One Game Type"
   ]
  },
  {
   "cell_type": "code",
   "execution_count": 13,
   "id": "d70d368b",
   "metadata": {},
   "outputs": [
    {
     "data": {
      "text/html": [
       "<div>\n",
       "<style scoped>\n",
       "    .dataframe tbody tr th:only-of-type {\n",
       "        vertical-align: middle;\n",
       "    }\n",
       "\n",
       "    .dataframe tbody tr th {\n",
       "        vertical-align: top;\n",
       "    }\n",
       "\n",
       "    .dataframe thead th {\n",
       "        text-align: right;\n",
       "    }\n",
       "</style>\n",
       "<table border=\"1\" class=\"dataframe\">\n",
       "  <thead>\n",
       "    <tr style=\"text-align: right;\">\n",
       "      <th></th>\n",
       "      <th>match_id</th>\n",
       "      <th>timeStart</th>\n",
       "      <th>kills</th>\n",
       "      <th>deaths</th>\n",
       "      <th>assists</th>\n",
       "      <th>gold_earned</th>\n",
       "      <th>win</th>\n",
       "    </tr>\n",
       "  </thead>\n",
       "  <tbody>\n",
       "    <tr>\n",
       "      <th>6</th>\n",
       "      <td>NA1_4247862756</td>\n",
       "      <td>1647386203343</td>\n",
       "      <td>28</td>\n",
       "      <td>6</td>\n",
       "      <td>17</td>\n",
       "      <td>16335</td>\n",
       "      <td>1</td>\n",
       "    </tr>\n",
       "    <tr>\n",
       "      <th>36</th>\n",
       "      <td>NA1_4247851698</td>\n",
       "      <td>1647385270322</td>\n",
       "      <td>7</td>\n",
       "      <td>6</td>\n",
       "      <td>12</td>\n",
       "      <td>8803</td>\n",
       "      <td>0</td>\n",
       "    </tr>\n",
       "    <tr>\n",
       "      <th>90</th>\n",
       "      <td>NA1_4247817907</td>\n",
       "      <td>1647383843857</td>\n",
       "      <td>13</td>\n",
       "      <td>8</td>\n",
       "      <td>19</td>\n",
       "      <td>17251</td>\n",
       "      <td>0</td>\n",
       "    </tr>\n",
       "    <tr>\n",
       "      <th>37</th>\n",
       "      <td>NA1_4247796220</td>\n",
       "      <td>1647382299797</td>\n",
       "      <td>14</td>\n",
       "      <td>9</td>\n",
       "      <td>34</td>\n",
       "      <td>15190</td>\n",
       "      <td>1</td>\n",
       "    </tr>\n",
       "    <tr>\n",
       "      <th>17</th>\n",
       "      <td>NA1_4246889034</td>\n",
       "      <td>1647287335251</td>\n",
       "      <td>11</td>\n",
       "      <td>10</td>\n",
       "      <td>14</td>\n",
       "      <td>15482</td>\n",
       "      <td>1</td>\n",
       "    </tr>\n",
       "  </tbody>\n",
       "</table>\n",
       "</div>"
      ],
      "text/plain": [
       "          match_id      timeStart  kills  deaths  assists  gold_earned  win\n",
       "6   NA1_4247862756  1647386203343     28       6       17        16335    1\n",
       "36  NA1_4247851698  1647385270322      7       6       12         8803    0\n",
       "90  NA1_4247817907  1647383843857     13       8       19        17251    0\n",
       "37  NA1_4247796220  1647382299797     14       9       34        15190    1\n",
       "17  NA1_4246889034  1647287335251     11      10       14        15482    1"
      ]
     },
     "execution_count": 13,
     "metadata": {},
     "output_type": "execute_result"
    }
   ],
   "source": [
    "ARAM.head()"
   ]
  },
  {
   "cell_type": "markdown",
   "id": "1a560132",
   "metadata": {},
   "source": [
    "## Predicting Wins using a Logistic Regression Model"
   ]
  },
  {
   "cell_type": "markdown",
   "id": "96c7dcff",
   "metadata": {},
   "source": [
    "We now want to answer the questions: \n",
    "- Can we predict if a player will win based on user metrics, such as kills, deaths, etc.?\n",
    "- What independent variables are good predictors for a win or lose?"
   ]
  },
  {
   "cell_type": "markdown",
   "id": "2df7857e",
   "metadata": {},
   "source": [
    "We can start answering these questions by using a logistic regression model to predict whether or not a player wins or loses where the independent variables are some of those given in the dataframe created earlier."
   ]
  },
  {
   "cell_type": "markdown",
   "id": "4e100688",
   "metadata": {},
   "source": [
    "If we find that these independent variables are not good predictors, then we can always go back and insert new types of variables from match data into our logistic regression model as an extension of this project. This is why we save the data to file. If we wish to improve on our model with new variables, we don't have to go back to getting the data from Riot as this make take some time."
   ]
  },
  {
   "cell_type": "markdown",
   "id": "528f6587",
   "metadata": {},
   "source": [
    "## Building a Logistic Regression Model"
   ]
  },
  {
   "cell_type": "markdown",
   "id": "37ae54e7",
   "metadata": {},
   "source": [
    "To build any machine learning model, we must divide our avaiable data into three datasets:\n",
    "- training dataset : Used to train the model to predict outcomes\n",
    "- testing dataset : Data used to test the model created through the training dataset. We can then tweak the model until we have reasonable predictions\n",
    "- validation dataset : Final testing dataset for the model. If the model does not predict well enough, then we start over with our model. Either toss the model, or review if you made enough reasonable changes to your model in the first place in the testing phase.\n",
    "\n",
    "We will not be validating this dataset as I believe there is not enough data with 100 points. It is actually quite easy to get more data from games past 100, I believe you just have to include a timestamp in watcher.match.matchlist_by_puuid() that excludes games after that timestamp."
   ]
  },
  {
   "cell_type": "code",
   "execution_count": 14,
   "id": "73d03c69",
   "metadata": {},
   "outputs": [],
   "source": [
    "from sklearn.linear_model import LogisticRegression\n",
    "from sklearn.model_selection import train_test_split"
   ]
  },
  {
   "cell_type": "markdown",
   "id": "d2d899f9",
   "metadata": {},
   "source": [
    "### Training the Model"
   ]
  },
  {
   "cell_type": "markdown",
   "id": "43c11b6a",
   "metadata": {},
   "source": [
    "I have mostly played ARAM so we will use that data for the rest of this notebook. It is probably more fun to analyze ranked data, so all you need to do is change the ARAM dataframe to the Ranked one and you're good to go."
   ]
  },
  {
   "cell_type": "code",
   "execution_count": 15,
   "id": "f8f95fbc",
   "metadata": {
    "scrolled": true
   },
   "outputs": [],
   "source": [
    "#X are the independent variables that will be used to predict a win or loss\n",
    "X = ARAM[['kills', 'deaths', 'assists', 'gold_earned']]\n",
    "\n",
    "#y is the dependent variable/outcome. It is given by a 1 for a win or a 0 for a loss\n",
    "y = ARAM['win']\n",
    "\n",
    "#We will split our dataframe to train and test our model\n",
    "X_train, X_test, y_train, y_test = train_test_split(X, y, test_size=0.3, random_state=42)"
   ]
  },
  {
   "cell_type": "code",
   "execution_count": 16,
   "id": "ae9b2890",
   "metadata": {},
   "outputs": [],
   "source": [
    "#Creating an Instance of the Logistic regression model form scikit-learn\n",
    "LogModel = LogisticRegression()"
   ]
  },
  {
   "cell_type": "code",
   "execution_count": 17,
   "id": "0879dbdc",
   "metadata": {},
   "outputs": [
    {
     "data": {
      "text/plain": [
       "LogisticRegression()"
      ]
     },
     "execution_count": 17,
     "metadata": {},
     "output_type": "execute_result"
    }
   ],
   "source": [
    "#Fitting the training data onto our logistic regression model\n",
    "LogModel.fit(X_train, y_train)"
   ]
  },
  {
   "cell_type": "markdown",
   "id": "62be36be",
   "metadata": {},
   "source": [
    "### Testing the Model"
   ]
  },
  {
   "cell_type": "code",
   "execution_count": 18,
   "id": "73927712",
   "metadata": {},
   "outputs": [],
   "source": [
    "#Predicting from our test data whether we win or lose a game\n",
    "y_predict = LogModel.predict(X_test)"
   ]
  },
  {
   "cell_type": "markdown",
   "id": "ee4fd02d",
   "metadata": {},
   "source": [
    "## Analyzing Model Predictions"
   ]
  },
  {
   "cell_type": "markdown",
   "id": "ea9462b0",
   "metadata": {},
   "source": [
    "We can analyze the model predictions a few different ways. Here we will be doing 3 different analyses of our results described below. "
   ]
  },
  {
   "cell_type": "markdown",
   "id": "11839a13",
   "metadata": {},
   "source": [
    "### Bar Plot"
   ]
  },
  {
   "cell_type": "markdown",
   "id": "104f2d92",
   "metadata": {},
   "source": [
    "(Analysis 1) bar plot where 0 and 1 represent correct and incorrect predictions, respectively of a win or loss."
   ]
  },
  {
   "cell_type": "code",
   "execution_count": 19,
   "id": "a92cf878",
   "metadata": {},
   "outputs": [
    {
     "data": {
      "text/html": [
       "        <script type=\"text/javascript\">\n",
       "        window.PlotlyConfig = {MathJaxConfig: 'local'};\n",
       "        if (window.MathJax) {MathJax.Hub.Config({SVG: {font: \"STIX-Web\"}});}\n",
       "        if (typeof require !== 'undefined') {\n",
       "        require.undef(\"plotly\");\n",
       "        requirejs.config({\n",
       "            paths: {\n",
       "                'plotly': ['https://cdn.plot.ly/plotly-2.9.0.min']\n",
       "            }\n",
       "        });\n",
       "        require(['plotly'], function(Plotly) {\n",
       "            window._Plotly = Plotly;\n",
       "        });\n",
       "        }\n",
       "        </script>\n",
       "        "
      ]
     },
     "metadata": {},
     "output_type": "display_data"
    }
   ],
   "source": [
    "#Using Cufflinks/Plotly to create this plot\n",
    "import cufflinks as cf\n",
    "\n",
    "cf.go_offline()"
   ]
  },
  {
   "cell_type": "code",
   "execution_count": 20,
   "id": "33e9f570",
   "metadata": {},
   "outputs": [
    {
     "data": {
      "application/vnd.plotly.v1+json": {
       "config": {
        "linkText": "Export to plot.ly",
        "plotlyServerURL": "https://plot.ly",
        "showLink": true
       },
       "data": [
        {
         "histfunc": "count",
         "histnorm": "",
         "marker": {
          "color": "rgba(255, 153, 51, 1.0)",
          "line": {
           "color": "#4D5663",
           "width": 1.3
          }
         },
         "name": "win",
         "opacity": 0.8,
         "orientation": "v",
         "type": "histogram",
         "x": [
          1,
          0,
          0,
          1,
          0,
          1,
          0,
          0,
          0,
          0,
          0,
          1,
          0,
          0,
          1,
          1,
          1,
          0,
          0,
          0,
          0,
          0
         ]
        }
       ],
       "layout": {
        "barmode": "overlay",
        "legend": {
         "bgcolor": "#F5F6F9",
         "font": {
          "color": "#4D5663"
         }
        },
        "paper_bgcolor": "#F5F6F9",
        "plot_bgcolor": "#F5F6F9",
        "template": {
         "data": {
          "bar": [
           {
            "error_x": {
             "color": "#2a3f5f"
            },
            "error_y": {
             "color": "#2a3f5f"
            },
            "marker": {
             "line": {
              "color": "#E5ECF6",
              "width": 0.5
             },
             "pattern": {
              "fillmode": "overlay",
              "size": 10,
              "solidity": 0.2
             }
            },
            "type": "bar"
           }
          ],
          "barpolar": [
           {
            "marker": {
             "line": {
              "color": "#E5ECF6",
              "width": 0.5
             },
             "pattern": {
              "fillmode": "overlay",
              "size": 10,
              "solidity": 0.2
             }
            },
            "type": "barpolar"
           }
          ],
          "carpet": [
           {
            "aaxis": {
             "endlinecolor": "#2a3f5f",
             "gridcolor": "white",
             "linecolor": "white",
             "minorgridcolor": "white",
             "startlinecolor": "#2a3f5f"
            },
            "baxis": {
             "endlinecolor": "#2a3f5f",
             "gridcolor": "white",
             "linecolor": "white",
             "minorgridcolor": "white",
             "startlinecolor": "#2a3f5f"
            },
            "type": "carpet"
           }
          ],
          "choropleth": [
           {
            "colorbar": {
             "outlinewidth": 0,
             "ticks": ""
            },
            "type": "choropleth"
           }
          ],
          "contour": [
           {
            "colorbar": {
             "outlinewidth": 0,
             "ticks": ""
            },
            "colorscale": [
             [
              0,
              "#0d0887"
             ],
             [
              0.1111111111111111,
              "#46039f"
             ],
             [
              0.2222222222222222,
              "#7201a8"
             ],
             [
              0.3333333333333333,
              "#9c179e"
             ],
             [
              0.4444444444444444,
              "#bd3786"
             ],
             [
              0.5555555555555556,
              "#d8576b"
             ],
             [
              0.6666666666666666,
              "#ed7953"
             ],
             [
              0.7777777777777778,
              "#fb9f3a"
             ],
             [
              0.8888888888888888,
              "#fdca26"
             ],
             [
              1,
              "#f0f921"
             ]
            ],
            "type": "contour"
           }
          ],
          "contourcarpet": [
           {
            "colorbar": {
             "outlinewidth": 0,
             "ticks": ""
            },
            "type": "contourcarpet"
           }
          ],
          "heatmap": [
           {
            "colorbar": {
             "outlinewidth": 0,
             "ticks": ""
            },
            "colorscale": [
             [
              0,
              "#0d0887"
             ],
             [
              0.1111111111111111,
              "#46039f"
             ],
             [
              0.2222222222222222,
              "#7201a8"
             ],
             [
              0.3333333333333333,
              "#9c179e"
             ],
             [
              0.4444444444444444,
              "#bd3786"
             ],
             [
              0.5555555555555556,
              "#d8576b"
             ],
             [
              0.6666666666666666,
              "#ed7953"
             ],
             [
              0.7777777777777778,
              "#fb9f3a"
             ],
             [
              0.8888888888888888,
              "#fdca26"
             ],
             [
              1,
              "#f0f921"
             ]
            ],
            "type": "heatmap"
           }
          ],
          "heatmapgl": [
           {
            "colorbar": {
             "outlinewidth": 0,
             "ticks": ""
            },
            "colorscale": [
             [
              0,
              "#0d0887"
             ],
             [
              0.1111111111111111,
              "#46039f"
             ],
             [
              0.2222222222222222,
              "#7201a8"
             ],
             [
              0.3333333333333333,
              "#9c179e"
             ],
             [
              0.4444444444444444,
              "#bd3786"
             ],
             [
              0.5555555555555556,
              "#d8576b"
             ],
             [
              0.6666666666666666,
              "#ed7953"
             ],
             [
              0.7777777777777778,
              "#fb9f3a"
             ],
             [
              0.8888888888888888,
              "#fdca26"
             ],
             [
              1,
              "#f0f921"
             ]
            ],
            "type": "heatmapgl"
           }
          ],
          "histogram": [
           {
            "marker": {
             "pattern": {
              "fillmode": "overlay",
              "size": 10,
              "solidity": 0.2
             }
            },
            "type": "histogram"
           }
          ],
          "histogram2d": [
           {
            "colorbar": {
             "outlinewidth": 0,
             "ticks": ""
            },
            "colorscale": [
             [
              0,
              "#0d0887"
             ],
             [
              0.1111111111111111,
              "#46039f"
             ],
             [
              0.2222222222222222,
              "#7201a8"
             ],
             [
              0.3333333333333333,
              "#9c179e"
             ],
             [
              0.4444444444444444,
              "#bd3786"
             ],
             [
              0.5555555555555556,
              "#d8576b"
             ],
             [
              0.6666666666666666,
              "#ed7953"
             ],
             [
              0.7777777777777778,
              "#fb9f3a"
             ],
             [
              0.8888888888888888,
              "#fdca26"
             ],
             [
              1,
              "#f0f921"
             ]
            ],
            "type": "histogram2d"
           }
          ],
          "histogram2dcontour": [
           {
            "colorbar": {
             "outlinewidth": 0,
             "ticks": ""
            },
            "colorscale": [
             [
              0,
              "#0d0887"
             ],
             [
              0.1111111111111111,
              "#46039f"
             ],
             [
              0.2222222222222222,
              "#7201a8"
             ],
             [
              0.3333333333333333,
              "#9c179e"
             ],
             [
              0.4444444444444444,
              "#bd3786"
             ],
             [
              0.5555555555555556,
              "#d8576b"
             ],
             [
              0.6666666666666666,
              "#ed7953"
             ],
             [
              0.7777777777777778,
              "#fb9f3a"
             ],
             [
              0.8888888888888888,
              "#fdca26"
             ],
             [
              1,
              "#f0f921"
             ]
            ],
            "type": "histogram2dcontour"
           }
          ],
          "mesh3d": [
           {
            "colorbar": {
             "outlinewidth": 0,
             "ticks": ""
            },
            "type": "mesh3d"
           }
          ],
          "parcoords": [
           {
            "line": {
             "colorbar": {
              "outlinewidth": 0,
              "ticks": ""
             }
            },
            "type": "parcoords"
           }
          ],
          "pie": [
           {
            "automargin": true,
            "type": "pie"
           }
          ],
          "scatter": [
           {
            "marker": {
             "colorbar": {
              "outlinewidth": 0,
              "ticks": ""
             }
            },
            "type": "scatter"
           }
          ],
          "scatter3d": [
           {
            "line": {
             "colorbar": {
              "outlinewidth": 0,
              "ticks": ""
             }
            },
            "marker": {
             "colorbar": {
              "outlinewidth": 0,
              "ticks": ""
             }
            },
            "type": "scatter3d"
           }
          ],
          "scattercarpet": [
           {
            "marker": {
             "colorbar": {
              "outlinewidth": 0,
              "ticks": ""
             }
            },
            "type": "scattercarpet"
           }
          ],
          "scattergeo": [
           {
            "marker": {
             "colorbar": {
              "outlinewidth": 0,
              "ticks": ""
             }
            },
            "type": "scattergeo"
           }
          ],
          "scattergl": [
           {
            "marker": {
             "colorbar": {
              "outlinewidth": 0,
              "ticks": ""
             }
            },
            "type": "scattergl"
           }
          ],
          "scattermapbox": [
           {
            "marker": {
             "colorbar": {
              "outlinewidth": 0,
              "ticks": ""
             }
            },
            "type": "scattermapbox"
           }
          ],
          "scatterpolar": [
           {
            "marker": {
             "colorbar": {
              "outlinewidth": 0,
              "ticks": ""
             }
            },
            "type": "scatterpolar"
           }
          ],
          "scatterpolargl": [
           {
            "marker": {
             "colorbar": {
              "outlinewidth": 0,
              "ticks": ""
             }
            },
            "type": "scatterpolargl"
           }
          ],
          "scatterternary": [
           {
            "marker": {
             "colorbar": {
              "outlinewidth": 0,
              "ticks": ""
             }
            },
            "type": "scatterternary"
           }
          ],
          "surface": [
           {
            "colorbar": {
             "outlinewidth": 0,
             "ticks": ""
            },
            "colorscale": [
             [
              0,
              "#0d0887"
             ],
             [
              0.1111111111111111,
              "#46039f"
             ],
             [
              0.2222222222222222,
              "#7201a8"
             ],
             [
              0.3333333333333333,
              "#9c179e"
             ],
             [
              0.4444444444444444,
              "#bd3786"
             ],
             [
              0.5555555555555556,
              "#d8576b"
             ],
             [
              0.6666666666666666,
              "#ed7953"
             ],
             [
              0.7777777777777778,
              "#fb9f3a"
             ],
             [
              0.8888888888888888,
              "#fdca26"
             ],
             [
              1,
              "#f0f921"
             ]
            ],
            "type": "surface"
           }
          ],
          "table": [
           {
            "cells": {
             "fill": {
              "color": "#EBF0F8"
             },
             "line": {
              "color": "white"
             }
            },
            "header": {
             "fill": {
              "color": "#C8D4E3"
             },
             "line": {
              "color": "white"
             }
            },
            "type": "table"
           }
          ]
         },
         "layout": {
          "annotationdefaults": {
           "arrowcolor": "#2a3f5f",
           "arrowhead": 0,
           "arrowwidth": 1
          },
          "autotypenumbers": "strict",
          "coloraxis": {
           "colorbar": {
            "outlinewidth": 0,
            "ticks": ""
           }
          },
          "colorscale": {
           "diverging": [
            [
             0,
             "#8e0152"
            ],
            [
             0.1,
             "#c51b7d"
            ],
            [
             0.2,
             "#de77ae"
            ],
            [
             0.3,
             "#f1b6da"
            ],
            [
             0.4,
             "#fde0ef"
            ],
            [
             0.5,
             "#f7f7f7"
            ],
            [
             0.6,
             "#e6f5d0"
            ],
            [
             0.7,
             "#b8e186"
            ],
            [
             0.8,
             "#7fbc41"
            ],
            [
             0.9,
             "#4d9221"
            ],
            [
             1,
             "#276419"
            ]
           ],
           "sequential": [
            [
             0,
             "#0d0887"
            ],
            [
             0.1111111111111111,
             "#46039f"
            ],
            [
             0.2222222222222222,
             "#7201a8"
            ],
            [
             0.3333333333333333,
             "#9c179e"
            ],
            [
             0.4444444444444444,
             "#bd3786"
            ],
            [
             0.5555555555555556,
             "#d8576b"
            ],
            [
             0.6666666666666666,
             "#ed7953"
            ],
            [
             0.7777777777777778,
             "#fb9f3a"
            ],
            [
             0.8888888888888888,
             "#fdca26"
            ],
            [
             1,
             "#f0f921"
            ]
           ],
           "sequentialminus": [
            [
             0,
             "#0d0887"
            ],
            [
             0.1111111111111111,
             "#46039f"
            ],
            [
             0.2222222222222222,
             "#7201a8"
            ],
            [
             0.3333333333333333,
             "#9c179e"
            ],
            [
             0.4444444444444444,
             "#bd3786"
            ],
            [
             0.5555555555555556,
             "#d8576b"
            ],
            [
             0.6666666666666666,
             "#ed7953"
            ],
            [
             0.7777777777777778,
             "#fb9f3a"
            ],
            [
             0.8888888888888888,
             "#fdca26"
            ],
            [
             1,
             "#f0f921"
            ]
           ]
          },
          "colorway": [
           "#636efa",
           "#EF553B",
           "#00cc96",
           "#ab63fa",
           "#FFA15A",
           "#19d3f3",
           "#FF6692",
           "#B6E880",
           "#FF97FF",
           "#FECB52"
          ],
          "font": {
           "color": "#2a3f5f"
          },
          "geo": {
           "bgcolor": "white",
           "lakecolor": "white",
           "landcolor": "#E5ECF6",
           "showlakes": true,
           "showland": true,
           "subunitcolor": "white"
          },
          "hoverlabel": {
           "align": "left"
          },
          "hovermode": "closest",
          "mapbox": {
           "style": "light"
          },
          "paper_bgcolor": "white",
          "plot_bgcolor": "#E5ECF6",
          "polar": {
           "angularaxis": {
            "gridcolor": "white",
            "linecolor": "white",
            "ticks": ""
           },
           "bgcolor": "#E5ECF6",
           "radialaxis": {
            "gridcolor": "white",
            "linecolor": "white",
            "ticks": ""
           }
          },
          "scene": {
           "xaxis": {
            "backgroundcolor": "#E5ECF6",
            "gridcolor": "white",
            "gridwidth": 2,
            "linecolor": "white",
            "showbackground": true,
            "ticks": "",
            "zerolinecolor": "white"
           },
           "yaxis": {
            "backgroundcolor": "#E5ECF6",
            "gridcolor": "white",
            "gridwidth": 2,
            "linecolor": "white",
            "showbackground": true,
            "ticks": "",
            "zerolinecolor": "white"
           },
           "zaxis": {
            "backgroundcolor": "#E5ECF6",
            "gridcolor": "white",
            "gridwidth": 2,
            "linecolor": "white",
            "showbackground": true,
            "ticks": "",
            "zerolinecolor": "white"
           }
          },
          "shapedefaults": {
           "line": {
            "color": "#2a3f5f"
           }
          },
          "ternary": {
           "aaxis": {
            "gridcolor": "white",
            "linecolor": "white",
            "ticks": ""
           },
           "baxis": {
            "gridcolor": "white",
            "linecolor": "white",
            "ticks": ""
           },
           "bgcolor": "#E5ECF6",
           "caxis": {
            "gridcolor": "white",
            "linecolor": "white",
            "ticks": ""
           }
          },
          "title": {
           "x": 0.05
          },
          "xaxis": {
           "automargin": true,
           "gridcolor": "white",
           "linecolor": "white",
           "ticks": "",
           "title": {
            "standoff": 15
           },
           "zerolinecolor": "white",
           "zerolinewidth": 2
          },
          "yaxis": {
           "automargin": true,
           "gridcolor": "white",
           "linecolor": "white",
           "ticks": "",
           "title": {
            "standoff": 15
           },
           "zerolinecolor": "white",
           "zerolinewidth": 2
          }
         }
        },
        "title": {
         "font": {
          "color": "#4D5663"
         }
        },
        "xaxis": {
         "gridcolor": "#E1E5ED",
         "showgrid": true,
         "tickfont": {
          "color": "#4D5663"
         },
         "title": {
          "font": {
           "color": "#4D5663"
          },
          "text": "0: Correct Predictions | 1: Incorrect Predictions"
         },
         "zerolinecolor": "#E1E5ED"
        },
        "yaxis": {
         "gridcolor": "#E1E5ED",
         "showgrid": true,
         "tickfont": {
          "color": "#4D5663"
         },
         "title": {
          "font": {
           "color": "#4D5663"
          },
          "text": "Count"
         },
         "zerolinecolor": "#E1E5ED"
        }
       }
      },
      "text/html": [
       "<div>                            <div id=\"a18eb1a0-9400-4844-96a3-28d56a359d37\" class=\"plotly-graph-div\" style=\"height:525px; width:100%;\"></div>            <script type=\"text/javascript\">                require([\"plotly\"], function(Plotly) {                    window.PLOTLYENV=window.PLOTLYENV || {};\n",
       "                    window.PLOTLYENV.BASE_URL='https://plot.ly';                                    if (document.getElementById(\"a18eb1a0-9400-4844-96a3-28d56a359d37\")) {                    Plotly.newPlot(                        \"a18eb1a0-9400-4844-96a3-28d56a359d37\",                        [{\"histfunc\":\"count\",\"histnorm\":\"\",\"marker\":{\"color\":\"rgba(255, 153, 51, 1.0)\",\"line\":{\"color\":\"#4D5663\",\"width\":1.3}},\"name\":\"win\",\"opacity\":0.8,\"orientation\":\"v\",\"x\":[1,0,0,1,0,1,0,0,0,0,0,1,0,0,1,1,1,0,0,0,0,0],\"type\":\"histogram\"}],                        {\"barmode\":\"overlay\",\"legend\":{\"bgcolor\":\"#F5F6F9\",\"font\":{\"color\":\"#4D5663\"}},\"paper_bgcolor\":\"#F5F6F9\",\"plot_bgcolor\":\"#F5F6F9\",\"template\":{\"data\":{\"barpolar\":[{\"marker\":{\"line\":{\"color\":\"#E5ECF6\",\"width\":0.5},\"pattern\":{\"fillmode\":\"overlay\",\"size\":10,\"solidity\":0.2}},\"type\":\"barpolar\"}],\"bar\":[{\"error_x\":{\"color\":\"#2a3f5f\"},\"error_y\":{\"color\":\"#2a3f5f\"},\"marker\":{\"line\":{\"color\":\"#E5ECF6\",\"width\":0.5},\"pattern\":{\"fillmode\":\"overlay\",\"size\":10,\"solidity\":0.2}},\"type\":\"bar\"}],\"carpet\":[{\"aaxis\":{\"endlinecolor\":\"#2a3f5f\",\"gridcolor\":\"white\",\"linecolor\":\"white\",\"minorgridcolor\":\"white\",\"startlinecolor\":\"#2a3f5f\"},\"baxis\":{\"endlinecolor\":\"#2a3f5f\",\"gridcolor\":\"white\",\"linecolor\":\"white\",\"minorgridcolor\":\"white\",\"startlinecolor\":\"#2a3f5f\"},\"type\":\"carpet\"}],\"choropleth\":[{\"colorbar\":{\"outlinewidth\":0,\"ticks\":\"\"},\"type\":\"choropleth\"}],\"contourcarpet\":[{\"colorbar\":{\"outlinewidth\":0,\"ticks\":\"\"},\"type\":\"contourcarpet\"}],\"contour\":[{\"colorbar\":{\"outlinewidth\":0,\"ticks\":\"\"},\"colorscale\":[[0.0,\"#0d0887\"],[0.1111111111111111,\"#46039f\"],[0.2222222222222222,\"#7201a8\"],[0.3333333333333333,\"#9c179e\"],[0.4444444444444444,\"#bd3786\"],[0.5555555555555556,\"#d8576b\"],[0.6666666666666666,\"#ed7953\"],[0.7777777777777778,\"#fb9f3a\"],[0.8888888888888888,\"#fdca26\"],[1.0,\"#f0f921\"]],\"type\":\"contour\"}],\"heatmapgl\":[{\"colorbar\":{\"outlinewidth\":0,\"ticks\":\"\"},\"colorscale\":[[0.0,\"#0d0887\"],[0.1111111111111111,\"#46039f\"],[0.2222222222222222,\"#7201a8\"],[0.3333333333333333,\"#9c179e\"],[0.4444444444444444,\"#bd3786\"],[0.5555555555555556,\"#d8576b\"],[0.6666666666666666,\"#ed7953\"],[0.7777777777777778,\"#fb9f3a\"],[0.8888888888888888,\"#fdca26\"],[1.0,\"#f0f921\"]],\"type\":\"heatmapgl\"}],\"heatmap\":[{\"colorbar\":{\"outlinewidth\":0,\"ticks\":\"\"},\"colorscale\":[[0.0,\"#0d0887\"],[0.1111111111111111,\"#46039f\"],[0.2222222222222222,\"#7201a8\"],[0.3333333333333333,\"#9c179e\"],[0.4444444444444444,\"#bd3786\"],[0.5555555555555556,\"#d8576b\"],[0.6666666666666666,\"#ed7953\"],[0.7777777777777778,\"#fb9f3a\"],[0.8888888888888888,\"#fdca26\"],[1.0,\"#f0f921\"]],\"type\":\"heatmap\"}],\"histogram2dcontour\":[{\"colorbar\":{\"outlinewidth\":0,\"ticks\":\"\"},\"colorscale\":[[0.0,\"#0d0887\"],[0.1111111111111111,\"#46039f\"],[0.2222222222222222,\"#7201a8\"],[0.3333333333333333,\"#9c179e\"],[0.4444444444444444,\"#bd3786\"],[0.5555555555555556,\"#d8576b\"],[0.6666666666666666,\"#ed7953\"],[0.7777777777777778,\"#fb9f3a\"],[0.8888888888888888,\"#fdca26\"],[1.0,\"#f0f921\"]],\"type\":\"histogram2dcontour\"}],\"histogram2d\":[{\"colorbar\":{\"outlinewidth\":0,\"ticks\":\"\"},\"colorscale\":[[0.0,\"#0d0887\"],[0.1111111111111111,\"#46039f\"],[0.2222222222222222,\"#7201a8\"],[0.3333333333333333,\"#9c179e\"],[0.4444444444444444,\"#bd3786\"],[0.5555555555555556,\"#d8576b\"],[0.6666666666666666,\"#ed7953\"],[0.7777777777777778,\"#fb9f3a\"],[0.8888888888888888,\"#fdca26\"],[1.0,\"#f0f921\"]],\"type\":\"histogram2d\"}],\"histogram\":[{\"marker\":{\"pattern\":{\"fillmode\":\"overlay\",\"size\":10,\"solidity\":0.2}},\"type\":\"histogram\"}],\"mesh3d\":[{\"colorbar\":{\"outlinewidth\":0,\"ticks\":\"\"},\"type\":\"mesh3d\"}],\"parcoords\":[{\"line\":{\"colorbar\":{\"outlinewidth\":0,\"ticks\":\"\"}},\"type\":\"parcoords\"}],\"pie\":[{\"automargin\":true,\"type\":\"pie\"}],\"scatter3d\":[{\"line\":{\"colorbar\":{\"outlinewidth\":0,\"ticks\":\"\"}},\"marker\":{\"colorbar\":{\"outlinewidth\":0,\"ticks\":\"\"}},\"type\":\"scatter3d\"}],\"scattercarpet\":[{\"marker\":{\"colorbar\":{\"outlinewidth\":0,\"ticks\":\"\"}},\"type\":\"scattercarpet\"}],\"scattergeo\":[{\"marker\":{\"colorbar\":{\"outlinewidth\":0,\"ticks\":\"\"}},\"type\":\"scattergeo\"}],\"scattergl\":[{\"marker\":{\"colorbar\":{\"outlinewidth\":0,\"ticks\":\"\"}},\"type\":\"scattergl\"}],\"scattermapbox\":[{\"marker\":{\"colorbar\":{\"outlinewidth\":0,\"ticks\":\"\"}},\"type\":\"scattermapbox\"}],\"scatterpolargl\":[{\"marker\":{\"colorbar\":{\"outlinewidth\":0,\"ticks\":\"\"}},\"type\":\"scatterpolargl\"}],\"scatterpolar\":[{\"marker\":{\"colorbar\":{\"outlinewidth\":0,\"ticks\":\"\"}},\"type\":\"scatterpolar\"}],\"scatter\":[{\"marker\":{\"colorbar\":{\"outlinewidth\":0,\"ticks\":\"\"}},\"type\":\"scatter\"}],\"scatterternary\":[{\"marker\":{\"colorbar\":{\"outlinewidth\":0,\"ticks\":\"\"}},\"type\":\"scatterternary\"}],\"surface\":[{\"colorbar\":{\"outlinewidth\":0,\"ticks\":\"\"},\"colorscale\":[[0.0,\"#0d0887\"],[0.1111111111111111,\"#46039f\"],[0.2222222222222222,\"#7201a8\"],[0.3333333333333333,\"#9c179e\"],[0.4444444444444444,\"#bd3786\"],[0.5555555555555556,\"#d8576b\"],[0.6666666666666666,\"#ed7953\"],[0.7777777777777778,\"#fb9f3a\"],[0.8888888888888888,\"#fdca26\"],[1.0,\"#f0f921\"]],\"type\":\"surface\"}],\"table\":[{\"cells\":{\"fill\":{\"color\":\"#EBF0F8\"},\"line\":{\"color\":\"white\"}},\"header\":{\"fill\":{\"color\":\"#C8D4E3\"},\"line\":{\"color\":\"white\"}},\"type\":\"table\"}]},\"layout\":{\"annotationdefaults\":{\"arrowcolor\":\"#2a3f5f\",\"arrowhead\":0,\"arrowwidth\":1},\"autotypenumbers\":\"strict\",\"coloraxis\":{\"colorbar\":{\"outlinewidth\":0,\"ticks\":\"\"}},\"colorscale\":{\"diverging\":[[0,\"#8e0152\"],[0.1,\"#c51b7d\"],[0.2,\"#de77ae\"],[0.3,\"#f1b6da\"],[0.4,\"#fde0ef\"],[0.5,\"#f7f7f7\"],[0.6,\"#e6f5d0\"],[0.7,\"#b8e186\"],[0.8,\"#7fbc41\"],[0.9,\"#4d9221\"],[1,\"#276419\"]],\"sequential\":[[0.0,\"#0d0887\"],[0.1111111111111111,\"#46039f\"],[0.2222222222222222,\"#7201a8\"],[0.3333333333333333,\"#9c179e\"],[0.4444444444444444,\"#bd3786\"],[0.5555555555555556,\"#d8576b\"],[0.6666666666666666,\"#ed7953\"],[0.7777777777777778,\"#fb9f3a\"],[0.8888888888888888,\"#fdca26\"],[1.0,\"#f0f921\"]],\"sequentialminus\":[[0.0,\"#0d0887\"],[0.1111111111111111,\"#46039f\"],[0.2222222222222222,\"#7201a8\"],[0.3333333333333333,\"#9c179e\"],[0.4444444444444444,\"#bd3786\"],[0.5555555555555556,\"#d8576b\"],[0.6666666666666666,\"#ed7953\"],[0.7777777777777778,\"#fb9f3a\"],[0.8888888888888888,\"#fdca26\"],[1.0,\"#f0f921\"]]},\"colorway\":[\"#636efa\",\"#EF553B\",\"#00cc96\",\"#ab63fa\",\"#FFA15A\",\"#19d3f3\",\"#FF6692\",\"#B6E880\",\"#FF97FF\",\"#FECB52\"],\"font\":{\"color\":\"#2a3f5f\"},\"geo\":{\"bgcolor\":\"white\",\"lakecolor\":\"white\",\"landcolor\":\"#E5ECF6\",\"showlakes\":true,\"showland\":true,\"subunitcolor\":\"white\"},\"hoverlabel\":{\"align\":\"left\"},\"hovermode\":\"closest\",\"mapbox\":{\"style\":\"light\"},\"paper_bgcolor\":\"white\",\"plot_bgcolor\":\"#E5ECF6\",\"polar\":{\"angularaxis\":{\"gridcolor\":\"white\",\"linecolor\":\"white\",\"ticks\":\"\"},\"bgcolor\":\"#E5ECF6\",\"radialaxis\":{\"gridcolor\":\"white\",\"linecolor\":\"white\",\"ticks\":\"\"}},\"scene\":{\"xaxis\":{\"backgroundcolor\":\"#E5ECF6\",\"gridcolor\":\"white\",\"gridwidth\":2,\"linecolor\":\"white\",\"showbackground\":true,\"ticks\":\"\",\"zerolinecolor\":\"white\"},\"yaxis\":{\"backgroundcolor\":\"#E5ECF6\",\"gridcolor\":\"white\",\"gridwidth\":2,\"linecolor\":\"white\",\"showbackground\":true,\"ticks\":\"\",\"zerolinecolor\":\"white\"},\"zaxis\":{\"backgroundcolor\":\"#E5ECF6\",\"gridcolor\":\"white\",\"gridwidth\":2,\"linecolor\":\"white\",\"showbackground\":true,\"ticks\":\"\",\"zerolinecolor\":\"white\"}},\"shapedefaults\":{\"line\":{\"color\":\"#2a3f5f\"}},\"ternary\":{\"aaxis\":{\"gridcolor\":\"white\",\"linecolor\":\"white\",\"ticks\":\"\"},\"baxis\":{\"gridcolor\":\"white\",\"linecolor\":\"white\",\"ticks\":\"\"},\"bgcolor\":\"#E5ECF6\",\"caxis\":{\"gridcolor\":\"white\",\"linecolor\":\"white\",\"ticks\":\"\"}},\"title\":{\"x\":0.05},\"xaxis\":{\"automargin\":true,\"gridcolor\":\"white\",\"linecolor\":\"white\",\"ticks\":\"\",\"title\":{\"standoff\":15},\"zerolinecolor\":\"white\",\"zerolinewidth\":2},\"yaxis\":{\"automargin\":true,\"gridcolor\":\"white\",\"linecolor\":\"white\",\"ticks\":\"\",\"title\":{\"standoff\":15},\"zerolinecolor\":\"white\",\"zerolinewidth\":2}}},\"title\":{\"font\":{\"color\":\"#4D5663\"}},\"xaxis\":{\"gridcolor\":\"#E1E5ED\",\"showgrid\":true,\"tickfont\":{\"color\":\"#4D5663\"},\"title\":{\"font\":{\"color\":\"#4D5663\"},\"text\":\"0: Correct Predictions | 1: Incorrect Predictions\"},\"zerolinecolor\":\"#E1E5ED\"},\"yaxis\":{\"gridcolor\":\"#E1E5ED\",\"showgrid\":true,\"tickfont\":{\"color\":\"#4D5663\"},\"title\":{\"font\":{\"color\":\"#4D5663\"},\"text\":\"Count\"},\"zerolinecolor\":\"#E1E5ED\"}},                        {\"showLink\": true, \"linkText\": \"Export to plot.ly\", \"plotlyServerURL\": \"https://plot.ly\", \"responsive\": true}                    ).then(function(){\n",
       "                            \n",
       "var gd = document.getElementById('a18eb1a0-9400-4844-96a3-28d56a359d37');\n",
       "var x = new MutationObserver(function (mutations, observer) {{\n",
       "        var display = window.getComputedStyle(gd).display;\n",
       "        if (!display || display === 'none') {{\n",
       "            console.log([gd, 'removed!']);\n",
       "            Plotly.purge(gd);\n",
       "            observer.disconnect();\n",
       "        }}\n",
       "}});\n",
       "\n",
       "// Listen for the removal of the full notebook cells\n",
       "var notebookContainer = gd.closest('#notebook-container');\n",
       "if (notebookContainer) {{\n",
       "    x.observe(notebookContainer, {childList: true});\n",
       "}}\n",
       "\n",
       "// Listen for the clearing of the current output cell\n",
       "var outputEl = gd.closest('.output');\n",
       "if (outputEl) {{\n",
       "    x.observe(outputEl, {childList: true});\n",
       "}}\n",
       "\n",
       "                        })                };                });            </script>        </div>"
      ]
     },
     "metadata": {},
     "output_type": "display_data"
    }
   ],
   "source": [
    "np.abs((y_predict - y_test)).iplot(kind = 'histogram', \n",
    "                                   xTitle = '0: Correct Predictions | 1: Incorrect Predictions',\n",
    "                                   yTitle = 'Count')\n"
   ]
  },
  {
   "cell_type": "code",
   "execution_count": 21,
   "id": "40354b17",
   "metadata": {},
   "outputs": [
    {
     "data": {
      "text/plain": [
       "Text(0.5, 0, '0: Correct Predictions | 1: Incorrect Predictions')"
      ]
     },
     "execution_count": 21,
     "metadata": {},
     "output_type": "execute_result"
    },
    {
     "data": {
      "image/png": "[encoded data removed]",
      "text/plain": [
       "<Figure size 432x288 with 1 Axes>"
      ]
     },
     "metadata": {},
     "output_type": "display_data"
    }
   ],
   "source": [
    "#If Cufflinks doesn't work then try this\n",
    "sns.set_style('darkgrid')\n",
    "sns.countplot(x = np.abs(y_predict - y_test))\n",
    "    \n",
    "plt.xlabel('0: Correct Predictions | 1: Incorrect Predictions')"
   ]
  },
  {
   "cell_type": "markdown",
   "id": "5d5ef9cd",
   "metadata": {},
   "source": [
    "### Confusion Matrix"
   ]
  },
  {
   "cell_type": "markdown",
   "id": "2695d835",
   "metadata": {},
   "source": [
    "Here we create a confusion matrix identifying True Positives, False Positives, False Negatives, True Negatives"
   ]
  },
  {
   "cell_type": "code",
   "execution_count": 22,
   "id": "12297261",
   "metadata": {
    "scrolled": true
   },
   "outputs": [
    {
     "data": {
      "text/plain": [
       "array([[7, 2],\n",
       "       [5, 8]])"
      ]
     },
     "execution_count": 22,
     "metadata": {},
     "output_type": "execute_result"
    }
   ],
   "source": [
    "from sklearn.metrics import confusion_matrix\n",
    "\n",
    "#Confusion matrix giving:\n",
    "#    True Negative    False Positive\n",
    "#    False Negative   True Positive\n",
    "confusion_matrix(y_test, y_predict)"
   ]
  },
  {
   "cell_type": "markdown",
   "id": "bb250b9e",
   "metadata": {},
   "source": [
    "### Classification Report"
   ]
  },
  {
   "cell_type": "markdown",
   "id": "863c6858",
   "metadata": {},
   "source": [
    "Here we identify different metrics for the results of our model including Precision, Recall and F1 Score. We can think of these metrics as follows:\n",
    "\n",
    "- Precision : Number of true positives  / number of all positives predicted i.e. TP/(TP+FP)\n",
    "- Recall : Number of true positives / number of all positives i.e. TP/(TP+FN)\n",
    "- F1 Score : Harmonic Mean of Precison and Recall i.e. 2*Precision*Recall/(Precision+Recall)"
   ]
  },
  {
   "cell_type": "code",
   "execution_count": 23,
   "id": "8a07b5a7",
   "metadata": {},
   "outputs": [
    {
     "data": {
      "text/plain": [
       "{'precision': 0.8,\n",
       " 'recall': 0.6153846153846154,\n",
       " 'f1-score': 0.6956521739130435,\n",
       " 'support': 13}"
      ]
     },
     "execution_count": 23,
     "metadata": {},
     "output_type": "execute_result"
    }
   ],
   "source": [
    "from sklearn.metrics import classification_report\n",
    "\n",
    "classification_report(y_test, y_predict,\n",
    "                        output_dict=True\n",
    "                     )['1']"
   ]
  },
  {
   "cell_type": "markdown",
   "id": "5aae6e32",
   "metadata": {},
   "source": [
    "## Results"
   ]
  },
  {
   "cell_type": "markdown",
   "id": "902a377d",
   "metadata": {},
   "source": [
    "We were able to train our logistic regression model with data from 49 matches and tested our model on 22 matches. We were able to correctly predict ~68% of match outcomes and incorrectly predicted ~32% of match outcomes."
   ]
  },
  {
   "cell_type": "markdown",
   "id": "a6d17c04",
   "metadata": {},
   "source": [
    "Of these correctly predicted matches, our model predicted 8 true wins and 7 true losses. There were 2 false wins (predicted a win when in fact it was a loss) and 5 false losses (predicted a loss when in fact it was a win)."
   ]
  },
  {
   "cell_type": "markdown",
   "id": "16467c12",
   "metadata": {},
   "source": [
    "- Precision : We got a precision score of 0.8, meaning that there weren't that many false wins as compared to true wins, which is good."
   ]
  },
  {
   "cell_type": "markdown",
   "id": "e3fdd06f",
   "metadata": {},
   "source": [
    "- Recall : We got a recall score of ~0.62, meaning there were almost an equal number of correctly reported wins to the number of incorrectly reported wins. This is not good."
   ]
  },
  {
   "cell_type": "markdown",
   "id": "3179afc4",
   "metadata": {},
   "source": [
    "- F1 Score : We got an F1 score of ~.69. It is hard to say whether an F1 score is good or bad. What we can do is keep tuning our model and if the F1 Score increases, then, generally, we will prefer that model."
   ]
  },
  {
   "cell_type": "markdown",
   "id": "af20aa21",
   "metadata": {},
   "source": [
    "## Conclusion"
   ]
  },
  {
   "cell_type": "markdown",
   "id": "30390213",
   "metadata": {},
   "source": [
    "We acquired player data from Riot's API, cleaned it and separated it by game type. We then used machine learning to train a logistic regression model to predict whether a game is a win or a loss depending on player metrics. We found that our model's accuracy is about 68% with an F1 Score of about 0.7. When trying to improve this model we must attempt to increase all relevant metrics (Accuracy, Precision, Recall and F1 Score) in order to say that we have a good model for predicting match outcomes."
   ]
  },
  {
   "cell_type": "markdown",
   "id": "cb5c90f3",
   "metadata": {},
   "source": [
    "The next steps for this project is to increase the amount of player metrics tha we use for this model. These may include:\n",
    "\n",
    "- Metrics of teammates or opponents : If you team is doing good/bad, you are probably more likely to win/lose. If the enemy team is doing good/bad you are probably more likely to lose/win.\n",
    "\n",
    "- Differential metrics : Differences in gold between each team is probably a good predictor for a win or lose.\n",
    "\n",
    "- Players' Champion Frequency : If a player has only played a certain champion once or twice, they may not do so well.\n",
    "\n",
    "There are so many predictors that we can think of, but choosing the most relevant ones to keep the number of independent variables as small as possible is important in prediction. This requires a lot of fiddling with the model until we get the best prediction/independent variables."
   ]
  },
  {
   "cell_type": "code",
   "execution_count": null,
   "id": "20b392e2",
   "metadata": {},
   "outputs": [],
   "source": []
  }
 ],
 "metadata": {
  "kernelspec": {
   "display_name": "Python 3 (ipykernel)",
   "language": "python",
   "name": "python3"
  },
  "language_info": {
   "codemirror_mode": {
    "name": "ipython",
    "version": 3
   },
   "file_extension": ".py",
   "mimetype": "text/x-python",
   "name": "python",
   "nbconvert_exporter": "python",
   "pygments_lexer": "ipython3",
   "version": "3.9.7"
  }
 },
 "nbformat": 4,
 "nbformat_minor": 5
}
